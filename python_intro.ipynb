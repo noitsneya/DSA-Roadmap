{
  "nbformat": 4,
  "nbformat_minor": 0,
  "metadata": {
    "colab": {
      "provenance": [],
      "authorship_tag": "ABX9TyNFvwzajAOuu7Snt7PV1liK",
      "include_colab_link": true
    },
    "kernelspec": {
      "name": "python3",
      "display_name": "Python 3"
    },
    "language_info": {
      "name": "python"
    }
  },
  "cells": [
    {
      "cell_type": "markdown",
      "metadata": {
        "id": "view-in-github",
        "colab_type": "text"
      },
      "source": [
        "<a href=\"https://colab.research.google.com/github/noitsneya/DSA-Roadmap/blob/main/python_intro.ipynb\" target=\"_parent\"><img src=\"https://colab.research.google.com/assets/colab-badge.svg\" alt=\"Open In Colab\"/></a>"
      ]
    },
    {
      "cell_type": "markdown",
      "source": [
        "# Day 1 - 10th October"
      ],
      "metadata": {
        "id": "AxsMbLlLFHAC"
      }
    },
    {
      "cell_type": "code",
      "execution_count": null,
      "metadata": {
        "colab": {
          "base_uri": "https://localhost:8080/"
        },
        "id": "x93EmeaEFDmS",
        "outputId": "258c95ab-94b6-4545-c4a5-b9c5a0b4ff1a"
      },
      "outputs": [
        {
          "output_type": "stream",
          "name": "stdout",
          "text": [
            "Hello World!\n"
          ]
        }
      ],
      "source": [
        "print(\"Hello World!\")\n",
        "#Comments are with hashtags!"
      ]
    },
    {
      "cell_type": "markdown",
      "source": [
        "indentation - VERY IMPORTANT\n",
        "same number of spaces per block of code, otherwise it won't run"
      ],
      "metadata": {
        "id": "yXveQQKVGFWh"
      }
    },
    {
      "cell_type": "code",
      "source": [
        "if 5 > 2:\n",
        "  print(\"5 is greater than 2.\")"
      ],
      "metadata": {
        "colab": {
          "base_uri": "https://localhost:8080/"
        },
        "id": "OXfBIEZ6GAV0",
        "outputId": "6ed1d00b-aaf5-49d5-952b-e048c7634093"
      },
      "execution_count": null,
      "outputs": [
        {
          "output_type": "stream",
          "name": "stdout",
          "text": [
            "5 is greater than 2.\n"
          ]
        }
      ]
    },
    {
      "cell_type": "markdown",
      "source": [
        "Python does not really have a syntax for multiline comments."
      ],
      "metadata": {
        "id": "Povtu1jvGtfr"
      }
    },
    {
      "cell_type": "code",
      "source": [
        "\"\"\"\n",
        "this is a multiline comment\n",
        "\n",
        "Since Python will ignore string literals that are not assigned to a variable,\n",
        "you can add a multiline string (triple quotes) in your code, and place your comment inside it\n",
        "\n",
        "\"\"\"\n",
        "\n",
        "print(\"Ignored!\")"
      ],
      "metadata": {
        "colab": {
          "base_uri": "https://localhost:8080/"
        },
        "id": "JbbiIxgHGe28",
        "outputId": "e87b94e9-3c5f-4277-9efd-55e9e1869a84"
      },
      "execution_count": null,
      "outputs": [
        {
          "output_type": "stream",
          "name": "stdout",
          "text": [
            "Ignored!\n"
          ]
        }
      ]
    },
    {
      "cell_type": "markdown",
      "source": [
        "## Variables"
      ],
      "metadata": {
        "id": "NksQjALIG_sR"
      }
    },
    {
      "cell_type": "markdown",
      "source": [
        "Variables do not need to be declared with any particular type, and can even change type after they have been set."
      ],
      "metadata": {
        "id": "6orfBI5eHCSq"
      }
    },
    {
      "cell_type": "code",
      "source": [
        "x = 3\n",
        "x = 'Ball'\n",
        "\n",
        "print(x)"
      ],
      "metadata": {
        "colab": {
          "base_uri": "https://localhost:8080/"
        },
        "id": "ukD0nlPNHCzi",
        "outputId": "ad48b79a-9568-4a9f-88fd-76835d5f345d"
      },
      "execution_count": null,
      "outputs": [
        {
          "output_type": "stream",
          "name": "stdout",
          "text": [
            "Ball\n"
          ]
        }
      ]
    },
    {
      "cell_type": "markdown",
      "source": [
        "To specify the type of variable, it can be done with **Casting**"
      ],
      "metadata": {
        "id": "15W2AE8jHQtu"
      }
    },
    {
      "cell_type": "code",
      "source": [
        "x = int(3)\n",
        "y = str(3)\n",
        "z = float(3)\n",
        "\n",
        "print(x,y,z)"
      ],
      "metadata": {
        "colab": {
          "base_uri": "https://localhost:8080/"
        },
        "id": "rdr2u1iAHYQy",
        "outputId": "4d7c9cc8-3ec6-4148-a5a6-bc37b519396f"
      },
      "execution_count": null,
      "outputs": [
        {
          "output_type": "stream",
          "name": "stdout",
          "text": [
            "3 3 3.0\n"
          ]
        }
      ]
    },
    {
      "cell_type": "code",
      "source": [
        "# type() function can help get the type of a variable\n",
        "\n",
        "x = 3\n",
        "\n",
        "print(type(x))"
      ],
      "metadata": {
        "colab": {
          "base_uri": "https://localhost:8080/"
        },
        "id": "WraO4NShHj2J",
        "outputId": "994214d9-17bb-4f3b-dd2b-ae3223edb77d"
      },
      "execution_count": null,
      "outputs": [
        {
          "output_type": "stream",
          "name": "stdout",
          "text": [
            "<class 'int'>\n"
          ]
        }
      ]
    },
    {
      "cell_type": "markdown",
      "source": [
        "##Rules for Python variables:\n",
        "\n",
        "A variable name must start with a letter or the underscore character\n",
        "\n",
        "A variable name cannot start with a number\n",
        "\n",
        "A variable name can only contain alpha-numeric characters and underscores (A-z, 0-9, and _ )\n",
        "\n",
        "Variable names are case-sensitive (age, Age and AGE are three different variables)\n",
        "\n",
        "A variable name cannot be any of the Python keywords."
      ],
      "metadata": {
        "id": "aBCMFLqXIhLg"
      }
    },
    {
      "cell_type": "markdown",
      "source": [
        "Camel Case - myPythonVariable\n",
        "Pascal Case - MyPythonVariable\n",
        "Snake Case - my_python_variable"
      ],
      "metadata": {
        "id": "EBQ9OappIxeY"
      }
    },
    {
      "cell_type": "code",
      "source": [
        "x, y, z = 3, 4, 5 # for multiple values being assigned in one line\n",
        "print(x)\n",
        "print(y)\n",
        "print(z)"
      ],
      "metadata": {
        "colab": {
          "base_uri": "https://localhost:8080/"
        },
        "id": "KOJ7YTzQI_8e",
        "outputId": "f87c132c-bee9-49fe-93c7-b582830b4f04"
      },
      "execution_count": null,
      "outputs": [
        {
          "output_type": "stream",
          "name": "stdout",
          "text": [
            "3\n",
            "4\n",
            "5\n"
          ]
        }
      ]
    },
    {
      "cell_type": "code",
      "source": [
        "x = y = z = 3 # for one value being assigned to multiple variables\n",
        "print(x)\n",
        "print(y)\n",
        "print(z)"
      ],
      "metadata": {
        "colab": {
          "base_uri": "https://localhost:8080/"
        },
        "id": "fxVmO3C4JD4Z",
        "outputId": "da446cb2-bb22-4616-aa7f-248749aa5dc7"
      },
      "execution_count": null,
      "outputs": [
        {
          "output_type": "stream",
          "name": "stdout",
          "text": [
            "3\n",
            "3\n",
            "3\n"
          ]
        }
      ]
    },
    {
      "cell_type": "markdown",
      "source": [
        "##Unpacking\n",
        "\n",
        "Python can help unpack a collection of values in a list, tuple, etc into variables"
      ],
      "metadata": {
        "id": "dboM8ds1JQds"
      }
    },
    {
      "cell_type": "code",
      "source": [
        "#unpacking\n",
        "\n",
        "fruits = [\"apples\", \"oranges\", \"mangoes\"] # this is a list\n",
        "\n",
        "x,y,z = fruits\n",
        "print(x)\n",
        "print(y)\n",
        "print(z)"
      ],
      "metadata": {
        "colab": {
          "base_uri": "https://localhost:8080/"
        },
        "id": "SK0FfztpJWi-",
        "outputId": "c3844737-7a9e-4606-ad63-91af9cf55a5d"
      },
      "execution_count": null,
      "outputs": [
        {
          "output_type": "stream",
          "name": "stdout",
          "text": [
            "apples\n",
            "oranges\n",
            "mangoes\n"
          ]
        }
      ]
    },
    {
      "cell_type": "code",
      "source": [
        "# If there are less variables to unpack from, you can use an asterix to collect the rest into a list\n",
        "fruits = [\"apples\", \"oranges\", \"mangoes\", \"POTATOES\"]\n",
        "\n",
        "x, y, *z = fruits\n",
        "print(x)\n",
        "print(y)\n",
        "print(z)"
      ],
      "metadata": {
        "colab": {
          "base_uri": "https://localhost:8080/"
        },
        "id": "9sea6tKeJ9h3",
        "outputId": "bfafa08d-1646-46af-8d2f-d6095ca70bca"
      },
      "execution_count": null,
      "outputs": [
        {
          "output_type": "stream",
          "name": "stdout",
          "text": [
            "apples\n",
            "oranges\n",
            "['mangoes', 'POTATOES']\n"
          ]
        }
      ]
    },
    {
      "cell_type": "code",
      "source": [
        "# If the asterix is on a variable in the middle of assigning, it sees the number of variables left and allocates elements into the list accordingly\n",
        "fruits = (\"apple\", \"mango\", \"papaya\", \"pineapple\", \"cherry\")\n",
        "\n",
        "(green, *tropic, red) = fruits\n",
        "\n",
        "print(green)\n",
        "print(tropic)\n",
        "print(red)"
      ],
      "metadata": {
        "colab": {
          "base_uri": "https://localhost:8080/"
        },
        "id": "CvUXlP46Kcvp",
        "outputId": "29444517-52fe-4af3-971c-696afa07b919"
      },
      "execution_count": null,
      "outputs": [
        {
          "output_type": "stream",
          "name": "stdout",
          "text": [
            "apple\n",
            "['mango', 'papaya', 'pineapple']\n",
            "cherry\n"
          ]
        }
      ]
    },
    {
      "cell_type": "markdown",
      "source": [
        "#Day 2 - 11th October"
      ],
      "metadata": {
        "id": "xEc8GsnZCegE"
      }
    },
    {
      "cell_type": "markdown",
      "source": [
        "##Global and Local Variables\n",
        "\n",
        "Values created outside a function are called global variables\n",
        "\n",
        "Values inside a function are local variables"
      ],
      "metadata": {
        "id": "TdH0-ZCF_6EB"
      }
    },
    {
      "cell_type": "code",
      "source": [
        "\"\"\"\n",
        "x = 'awesome'\n",
        "\n",
        "def aPrintFunction():\n",
        "  x = 'Python is'\n",
        "  print(x)\n",
        "\n",
        "aPrintFunction()\n",
        "print(x)\n",
        "\n",
        "print(aPrintFunction() + x)\n",
        "\n",
        "\"\"\""
      ],
      "metadata": {
        "id": "BLwOEW1dLxzJ",
        "colab": {
          "base_uri": "https://localhost:8080/",
          "height": 54
        },
        "outputId": "aa9d0b46-0010-4eaf-998f-3bd7a20ea430"
      },
      "execution_count": null,
      "outputs": [
        {
          "output_type": "execute_result",
          "data": {
            "text/plain": [
              "\"\\nx = 'awesome'\\n\\ndef aPrintFunction():\\n  x = 'Python is'\\n  print(x) \\n\\naPrintFunction() \\nprint(x)\\n\\nprint(aPrintFunction() + x)\\n\\n\""
            ],
            "application/vnd.google.colaboratory.intrinsic+json": {
              "type": "string"
            }
          },
          "metadata": {},
          "execution_count": 14
        }
      ]
    },
    {
      "cell_type": "markdown",
      "source": [
        "there is a difference between return and print - since im printing something, the function isn't returning anything so it returns None, therefore there's a type error - if we try again with a return value, it should work"
      ],
      "metadata": {
        "id": "NzYKpjgZAukv"
      }
    },
    {
      "cell_type": "code",
      "source": [
        "x = 'awesome'\n",
        "\n",
        "def aPrintFunction():\n",
        "  x = 'Python is'\n",
        "  return x\n",
        "\n",
        "print(aPrintFunction() + ' '+ x)"
      ],
      "metadata": {
        "colab": {
          "base_uri": "https://localhost:8080/"
        },
        "id": "Ef5zDxUYA3Oq",
        "outputId": "8258ca8c-0378-4d5f-a40d-8a5d5f30f1c5"
      },
      "execution_count": null,
      "outputs": [
        {
          "output_type": "stream",
          "name": "stdout",
          "text": [
            "Python is awesome\n"
          ]
        }
      ]
    },
    {
      "cell_type": "markdown",
      "source": [
        "if you want to create a global variable inside a function (where it is local), you need to add the **global** keyword\n",
        "\n",
        "global [var name] you can't assign anything on the same line unfortunately\n"
      ],
      "metadata": {
        "id": "rq1JvLMvBCPu"
      }
    },
    {
      "cell_type": "code",
      "source": [
        "x = 'awesome'\n",
        "\n",
        "def aPrintFunction():\n",
        "  global x\n",
        "  x = 'Python is'\n",
        "  return x\n",
        "\n",
        "\n",
        "print(aPrintFunction() + x)"
      ],
      "metadata": {
        "colab": {
          "base_uri": "https://localhost:8080/"
        },
        "id": "Mw7mSAF3BKt5",
        "outputId": "9dc85211-ac54-4b6b-c611-74274d5df2bb"
      },
      "execution_count": null,
      "outputs": [
        {
          "output_type": "stream",
          "name": "stdout",
          "text": [
            "Python isPython is\n"
          ]
        }
      ]
    },
    {
      "cell_type": "code",
      "source": [
        "print('Hello', 'World')\n",
        "# only string concatenation joins words +"
      ],
      "metadata": {
        "colab": {
          "base_uri": "https://localhost:8080/"
        },
        "id": "x08mqHLKB74y",
        "outputId": "d0e47f3f-622d-466e-de96-be9e6566b6b9"
      },
      "execution_count": null,
      "outputs": [
        {
          "output_type": "stream",
          "name": "stdout",
          "text": [
            "Hello World\n"
          ]
        }
      ]
    },
    {
      "cell_type": "markdown",
      "source": [
        "## Data Types"
      ],
      "metadata": {
        "id": "r7uh0EezC49l"
      }
    },
    {
      "cell_type": "markdown",
      "source": [
        "Python data types\n",
        "\n",
        "text type: str (string)\n",
        "\n",
        "numeric type: int (integer), float, complex (in python we use j not i)\n",
        "\n",
        "sequence types: list, tuple, range\n",
        "\n",
        "mapping type: dict (dictionary)\n",
        "\n",
        "set types: set, frozenset\n",
        "\n",
        "boolean type: bool\n",
        "\n",
        "binary types: bytes, bytearray, memoryview\n",
        "\n",
        "none type: NoneType\n",
        "\n",
        "the type() function gives the type of any object"
      ],
      "metadata": {
        "id": "0GqgE6jzC7xl"
      }
    },
    {
      "cell_type": "markdown",
      "source": [
        "x = \"Hello World\"\tstr\n",
        "x = 20\tint\n",
        "x = 20.5\tfloat\n",
        "x = 1j\tcomplex\n",
        "x = [\"apple\", \"banana\", \"cherry\"]\tlist\n",
        "x = (\"apple\", \"banana\", \"cherry\")\ttuple\n",
        "x = range(6)\trange\n",
        "x = {\"name\" : \"John\", \"age\" : 36}\tdict\n",
        "x = {\"apple\", \"banana\", \"cherry\"}\tset\n",
        "x = frozenset({\"apple\", \"banana\", \"cherry\"})\tfrozenset\n",
        "x = True\tbool\n",
        "x = b\"Hello\"\tbytes\n",
        "x = bytearray(5)\tbytearray\n",
        "x = memoryview(bytes(5))\tmemoryview\n",
        "x = None\tNone"
      ],
      "metadata": {
        "id": "lc1LVu0RD46N"
      }
    },
    {
      "cell_type": "markdown",
      "source": [
        "difference between lists and tuples -\n",
        "\n",
        "lists are mutable (can modify after its created)\n",
        "\n",
        "tuples, however, are not. but tuples perform better and are faster because of their immutability and fixed sizes\n",
        "\n",
        "methods: lists have many built in methods like append(), remove(), extend()\n",
        "\n",
        "tuples only have a few like count(), index()"
      ],
      "metadata": {
        "id": "ojUvvLjUW0hB"
      }
    },
    {
      "cell_type": "code",
      "source": [
        "aTuple = (1, 2, 3, 4, 4, 4)\n",
        "\n",
        "aTuple.index(2)\n",
        "aTuple.count(4) # number of times in tuple\n",
        "\n",
        "\"\"\"\n",
        "in an interactive Python environment (like a Python shell or Jupyter Notebook),\n",
        "only the result of the last expression evaluated is displayed automatically.\n",
        "\n",
        "When you run a Python script (a .py file), only output from the print()\n",
        "statements or any exceptions will be shown in the console.\n",
        "\"\"\""
      ],
      "metadata": {
        "colab": {
          "base_uri": "https://localhost:8080/",
          "height": 126
        },
        "id": "tc7jT6TrD6H5",
        "outputId": "aaf59301-184e-4a00-a500-06644a213984"
      },
      "execution_count": null,
      "outputs": [
        {
          "output_type": "stream",
          "name": "stdout",
          "text": [
            "1\n",
            "3\n"
          ]
        },
        {
          "output_type": "execute_result",
          "data": {
            "text/plain": [
              "'\\nin an interactive Python environment (like a Python shell or Jupyter Notebook),\\nonly the result of the last expression evaluated is displayed automatically.\\n\\nWhen you run a Python script (a .py file), only output from the print() \\nstatements or any exceptions will be shown in the console.\\n'"
            ],
            "application/vnd.google.colaboratory.intrinsic+json": {
              "type": "string"
            }
          },
          "metadata": {},
          "execution_count": 9
        }
      ]
    },
    {
      "cell_type": "markdown",
      "source": [
        "##Numbers\n",
        "\n",
        "\n",
        "int - in python3, integers are of arbitrary precision, so they can grow as much as the memory allows, so there is no fixed upper limit\n",
        "\n",
        "float - 68 bits - size, memory usage at 8 bytes\n",
        "\n",
        "range of float is determined by C implementation - this follows the IEEE 754 standard for double-precision floating point numbers\n",
        "Minimum Positive Float: Approximately\n",
        "2.2250738585072014\n",
        "×\n",
        "1\n",
        "0\n",
        "−\n",
        "308\n",
        "2.2250738585072014×10\n",
        "−308\n",
        "\n",
        "Maximum Float: Approximately\n",
        "1.7976931348623157\n",
        "×\n",
        "1\n",
        "0\n",
        "308\n",
        "1.7976931348623157×10\n",
        "308\n",
        "\n",
        "special values-\n",
        "\n",
        "float('inf')\n",
        "float('-inf')\n",
        "float('nan')\n",
        "\n",
        "\n",
        "\n",
        "complex - represented by two float values\n",
        "\n",
        "j\n",
        "\n",
        "memory size - 16 bytes (8 bytes on each float) plus some overhead\n",
        "\n",
        "note: you cannot convert complex numbers into another number type"
      ],
      "metadata": {
        "id": "t2_9mKuDYVkV"
      }
    },
    {
      "cell_type": "code",
      "source": [
        "# learn the random module to have a random() function\n",
        "import random\n",
        "\n",
        "print(random.randrange(1, 10))"
      ],
      "metadata": {
        "colab": {
          "base_uri": "https://localhost:8080/"
        },
        "id": "gzh_sDgKYnir",
        "outputId": "a0117612-e28a-49e8-fcb0-c359ac827a80"
      },
      "execution_count": null,
      "outputs": [
        {
          "output_type": "stream",
          "name": "stdout",
          "text": [
            "7\n"
          ]
        }
      ]
    },
    {
      "cell_type": "code",
      "source": [
        "# to get the size of a variable's memory usage\n",
        "import sys\n",
        "x = 10\n",
        "print(sys.getsizeof(x)) #in bytes\n",
        "\n",
        "print(sys.getsizeof('Hello World'))\n",
        "\n",
        "print(sys.float_info.min)"
      ],
      "metadata": {
        "colab": {
          "base_uri": "https://localhost:8080/"
        },
        "id": "7pVolTXwZOQL",
        "outputId": "bf2013b6-5e93-4930-d425-abe2fe58f700"
      },
      "execution_count": null,
      "outputs": [
        {
          "output_type": "stream",
          "name": "stdout",
          "text": [
            "28\n",
            "60\n",
            "2.2250738585072014e-308\n"
          ]
        }
      ]
    },
    {
      "cell_type": "markdown",
      "source": [
        "##Casting\n",
        "\n",
        "Casting in python is done using constructor functions:\n",
        "\n",
        "1. int()\n",
        "\n",
        "2. float()\n",
        "\n",
        "3. str()\n",
        "\n"
      ],
      "metadata": {
        "id": "ybeEB4FIbW0J"
      }
    },
    {
      "cell_type": "code",
      "source": [
        "x = int(35.99)\n",
        "print(x)\n",
        "\n",
        "#typecasting doesn't round up anything, it truncates the decimal part\n",
        "\n",
        "y = round(35.99)\n",
        "print(y)"
      ],
      "metadata": {
        "colab": {
          "base_uri": "https://localhost:8080/"
        },
        "id": "qohPZkiqbWUV",
        "outputId": "d5edc39e-d08a-4943-af23-d0446b502ff9"
      },
      "execution_count": null,
      "outputs": [
        {
          "output_type": "stream",
          "name": "stdout",
          "text": [
            "35\n",
            "36\n"
          ]
        }
      ]
    },
    {
      "cell_type": "code",
      "source": [
        "# you can also use format() or f-strings for strings\n",
        "\n",
        "#numbers to strings\n",
        "\n",
        "x = f\"{10}\"\n",
        "print(type(x))\n",
        "\n",
        "# or\n",
        "\n",
        "y = \"{}\".format(10)\n",
        "print(type(y))"
      ],
      "metadata": {
        "colab": {
          "base_uri": "https://localhost:8080/"
        },
        "id": "bFP66lQKcTWc",
        "outputId": "73830644-0388-4025-cb10-b69769bd5271"
      },
      "execution_count": null,
      "outputs": [
        {
          "output_type": "stream",
          "name": "stdout",
          "text": [
            "<class 'str'>\n",
            "<class 'str'>\n"
          ]
        }
      ]
    },
    {
      "cell_type": "code",
      "source": [
        "# you can switch lists into tuples as well\n",
        "\n",
        "myTuple = (1,2,3,4)\n",
        "myList = list(myTuple)\n",
        "print(type(myList))"
      ],
      "metadata": {
        "colab": {
          "base_uri": "https://localhost:8080/"
        },
        "id": "58yFFo93cwTd",
        "outputId": "1687d5ae-2226-4502-93ae-e6605a3a9394"
      },
      "execution_count": null,
      "outputs": [
        {
          "output_type": "stream",
          "name": "stdout",
          "text": [
            "<class 'list'>\n"
          ]
        }
      ]
    },
    {
      "cell_type": "code",
      "source": [
        "x = eval(\"3.14\")\n",
        "y = eval('\"Hello World\"')\n",
        "print(x,y)\n",
        "\n",
        "# not y = eval(\"Hello World\") because it sees it as two separate identifiers"
      ],
      "metadata": {
        "colab": {
          "base_uri": "https://localhost:8080/"
        },
        "id": "2fWobLrtdCQR",
        "outputId": "dd11d04f-b10e-41fb-db7f-cda3013fb539"
      },
      "execution_count": null,
      "outputs": [
        {
          "output_type": "stream",
          "name": "stdout",
          "text": [
            "3.14 Hello World\n"
          ]
        }
      ]
    },
    {
      "cell_type": "markdown",
      "source": [
        "#Day 3 - 12th October"
      ],
      "metadata": {
        "id": "I_UvrvhgeQa3"
      }
    },
    {
      "cell_type": "code",
      "source": [
        "#slicing with format [Start: stop: step]\n",
        "\n",
        "x = 'Hello'[::-1]\n",
        "print(x)\n",
        "y = 'Hello'[1:4]\n",
        "print(y)\n"
      ],
      "metadata": {
        "colab": {
          "base_uri": "https://localhost:8080/"
        },
        "id": "Z2DVKv1ZeZPw",
        "outputId": "2961a1ce-e474-4155-ba99-b106f1c8e11e"
      },
      "execution_count": null,
      "outputs": [
        {
          "output_type": "stream",
          "name": "stdout",
          "text": [
            "olleH\n",
            "ell\n"
          ]
        }
      ]
    }
  ]
}